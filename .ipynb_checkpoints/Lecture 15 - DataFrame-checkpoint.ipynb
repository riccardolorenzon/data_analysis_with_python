{
 "cells": [
  {
   "cell_type": "code",
   "execution_count": 1,
   "metadata": {
    "collapsed": true
   },
   "outputs": [],
   "source": [
    "import numpy as np \n",
    "\n",
    "import pandas as pd \n",
    "\n",
    "from pandas import Series, DataFrame"
   ]
  },
  {
   "cell_type": "code",
   "execution_count": 3,
   "metadata": {
    "collapsed": false
   },
   "outputs": [],
   "source": [
    "import webbrowser \n",
    "web_site = 'https://en.wikipedia.org/wiki/NFL_win%E2%80%93loss_records'"
   ]
  },
  {
   "cell_type": "code",
   "execution_count": 4,
   "metadata": {
    "collapsed": false
   },
   "outputs": [
    {
     "data": {
      "text/plain": [
       "True"
      ]
     },
     "execution_count": 4,
     "metadata": {},
     "output_type": "execute_result"
    }
   ],
   "source": [
    "webbrowser.open(web_site)"
   ]
  },
  {
   "cell_type": "code",
   "execution_count": 34,
   "metadata": {
    "collapsed": false
   },
   "outputs": [],
   "source": [
    "nfl_frame = pd.read_clipboard()"
   ]
  },
  {
   "cell_type": "code",
   "execution_count": 35,
   "metadata": {
    "collapsed": false
   },
   "outputs": [
    {
     "data": {
      "text/html": [
       "<div>\n",
       "<table border=\"1\" class=\"dataframe\">\n",
       "  <thead>\n",
       "    <tr style=\"text-align: right;\">\n",
       "      <th></th>\n",
       "      <th>Rank</th>\n",
       "      <th>Team</th>\n",
       "      <th>Won</th>\n",
       "      <th>Lost</th>\n",
       "      <th>Tied</th>\n",
       "      <th>Pct.</th>\n",
       "      <th>First_NFL_Season</th>\n",
       "      <th>Total_Games</th>\n",
       "      <th>Division</th>\n",
       "    </tr>\n",
       "  </thead>\n",
       "  <tbody>\n",
       "    <tr>\n",
       "      <th>0</th>\n",
       "      <td>30</td>\n",
       "      <td>Houston_Texans</td>\n",
       "      <td>97</td>\n",
       "      <td>127</td>\n",
       "      <td>0</td>\n",
       "      <td>0.433</td>\n",
       "      <td>2002</td>\n",
       "      <td>224</td>\n",
       "      <td>AFC_South</td>\n",
       "    </tr>\n",
       "    <tr>\n",
       "      <th>1</th>\n",
       "      <td>7</td>\n",
       "      <td>Baltimore_Ravens</td>\n",
       "      <td>173</td>\n",
       "      <td>146</td>\n",
       "      <td>1</td>\n",
       "      <td>0.542</td>\n",
       "      <td>1996</td>\n",
       "      <td>320</td>\n",
       "      <td>AFC_North</td>\n",
       "    </tr>\n",
       "    <tr>\n",
       "      <th>2</th>\n",
       "      <td>20</td>\n",
       "      <td>Carolina_Panthers</td>\n",
       "      <td>166</td>\n",
       "      <td>169</td>\n",
       "      <td>1</td>\n",
       "      <td>0.496</td>\n",
       "      <td>1995</td>\n",
       "      <td>336</td>\n",
       "      <td>NFC_South</td>\n",
       "    </tr>\n",
       "    <tr>\n",
       "      <th>3</th>\n",
       "      <td>27</td>\n",
       "      <td>Jacksonville_Jaguars</td>\n",
       "      <td>152</td>\n",
       "      <td>184</td>\n",
       "      <td>0</td>\n",
       "      <td>0.452</td>\n",
       "      <td>1995</td>\n",
       "      <td>336</td>\n",
       "      <td>AFC_South</td>\n",
       "    </tr>\n",
       "    <tr>\n",
       "      <th>4</th>\n",
       "      <td>17</td>\n",
       "      <td>Seattle_Seahawks</td>\n",
       "      <td>315</td>\n",
       "      <td>313</td>\n",
       "      <td>0</td>\n",
       "      <td>0.502</td>\n",
       "      <td>1976</td>\n",
       "      <td>628</td>\n",
       "      <td>NFC_West</td>\n",
       "    </tr>\n",
       "    <tr>\n",
       "      <th>5</th>\n",
       "      <td>4</td>\n",
       "      <td>Miami_Dolphins</td>\n",
       "      <td>429</td>\n",
       "      <td>335</td>\n",
       "      <td>4</td>\n",
       "      <td>0.561</td>\n",
       "      <td>1966</td>\n",
       "      <td>768</td>\n",
       "      <td>AFC_East</td>\n",
       "    </tr>\n",
       "    <tr>\n",
       "      <th>6</th>\n",
       "      <td>2</td>\n",
       "      <td>Dallas_Cowboys</td>\n",
       "      <td>480</td>\n",
       "      <td>364</td>\n",
       "      <td>6</td>\n",
       "      <td>0.568</td>\n",
       "      <td>1960</td>\n",
       "      <td>850</td>\n",
       "      <td>NFC_East</td>\n",
       "    </tr>\n",
       "  </tbody>\n",
       "</table>\n",
       "</div>"
      ],
      "text/plain": [
       "   Rank                  Team  Won  Lost  Tied   Pct.  First_NFL_Season  \\\n",
       "0    30        Houston_Texans   97   127     0  0.433              2002   \n",
       "1     7      Baltimore_Ravens  173   146     1  0.542              1996   \n",
       "2    20     Carolina_Panthers  166   169     1  0.496              1995   \n",
       "3    27  Jacksonville_Jaguars  152   184     0  0.452              1995   \n",
       "4    17      Seattle_Seahawks  315   313     0  0.502              1976   \n",
       "5     4        Miami_Dolphins  429   335     4  0.561              1966   \n",
       "6     2        Dallas_Cowboys  480   364     6  0.568              1960   \n",
       "\n",
       "   Total_Games   Division  \n",
       "0          224  AFC_South  \n",
       "1          320  AFC_North  \n",
       "2          336  NFC_South  \n",
       "3          336  AFC_South  \n",
       "4          628   NFC_West  \n",
       "5          768   AFC_East  \n",
       "6          850   NFC_East  "
      ]
     },
     "execution_count": 35,
     "metadata": {},
     "output_type": "execute_result"
    }
   ],
   "source": [
    "nfl_frame"
   ]
  },
  {
   "cell_type": "code",
   "execution_count": 36,
   "metadata": {
    "collapsed": false
   },
   "outputs": [
    {
     "data": {
      "text/plain": [
       "Index(['Rank', 'Team', 'Won', 'Lost', 'Tied', 'Pct.', 'First_NFL_Season',\n",
       "       'Total_Games', 'Division'],\n",
       "      dtype='object')"
      ]
     },
     "execution_count": 36,
     "metadata": {},
     "output_type": "execute_result"
    }
   ],
   "source": [
    "nfl_frame.columns"
   ]
  },
  {
   "cell_type": "code",
   "execution_count": 37,
   "metadata": {
    "collapsed": false
   },
   "outputs": [
    {
     "data": {
      "text/plain": [
       "0    30\n",
       "1     7\n",
       "2    20\n",
       "3    27\n",
       "4    17\n",
       "5     4\n",
       "6     2\n",
       "Name: Rank, dtype: int64"
      ]
     },
     "execution_count": 37,
     "metadata": {},
     "output_type": "execute_result"
    }
   ],
   "source": [
    "nfl_frame.Rank"
   ]
  },
  {
   "cell_type": "code",
   "execution_count": 39,
   "metadata": {
    "collapsed": false
   },
   "outputs": [
    {
     "data": {
      "text/plain": [
       "0    2002\n",
       "1    1996\n",
       "2    1995\n",
       "3    1995\n",
       "4    1976\n",
       "5    1966\n",
       "6    1960\n",
       "Name: First_NFL_Season, dtype: int64"
      ]
     },
     "execution_count": 39,
     "metadata": {},
     "output_type": "execute_result"
    }
   ],
   "source": [
    "nfl_frame['First_NFL_Season']"
   ]
  },
  {
   "cell_type": "code",
   "execution_count": 41,
   "metadata": {
    "collapsed": false
   },
   "outputs": [
    {
     "data": {
      "text/html": [
       "<div>\n",
       "<table border=\"1\" class=\"dataframe\">\n",
       "  <thead>\n",
       "    <tr style=\"text-align: right;\">\n",
       "      <th></th>\n",
       "      <th>Team</th>\n",
       "      <th>First_NFL_Season</th>\n",
       "      <th>Total_Games</th>\n",
       "    </tr>\n",
       "  </thead>\n",
       "  <tbody>\n",
       "    <tr>\n",
       "      <th>0</th>\n",
       "      <td>Houston_Texans</td>\n",
       "      <td>2002</td>\n",
       "      <td>224</td>\n",
       "    </tr>\n",
       "    <tr>\n",
       "      <th>1</th>\n",
       "      <td>Baltimore_Ravens</td>\n",
       "      <td>1996</td>\n",
       "      <td>320</td>\n",
       "    </tr>\n",
       "    <tr>\n",
       "      <th>2</th>\n",
       "      <td>Carolina_Panthers</td>\n",
       "      <td>1995</td>\n",
       "      <td>336</td>\n",
       "    </tr>\n",
       "    <tr>\n",
       "      <th>3</th>\n",
       "      <td>Jacksonville_Jaguars</td>\n",
       "      <td>1995</td>\n",
       "      <td>336</td>\n",
       "    </tr>\n",
       "    <tr>\n",
       "      <th>4</th>\n",
       "      <td>Seattle_Seahawks</td>\n",
       "      <td>1976</td>\n",
       "      <td>628</td>\n",
       "    </tr>\n",
       "    <tr>\n",
       "      <th>5</th>\n",
       "      <td>Miami_Dolphins</td>\n",
       "      <td>1966</td>\n",
       "      <td>768</td>\n",
       "    </tr>\n",
       "    <tr>\n",
       "      <th>6</th>\n",
       "      <td>Dallas_Cowboys</td>\n",
       "      <td>1960</td>\n",
       "      <td>850</td>\n",
       "    </tr>\n",
       "  </tbody>\n",
       "</table>\n",
       "</div>"
      ],
      "text/plain": [
       "                   Team  First_NFL_Season  Total_Games\n",
       "0        Houston_Texans              2002          224\n",
       "1      Baltimore_Ravens              1996          320\n",
       "2     Carolina_Panthers              1995          336\n",
       "3  Jacksonville_Jaguars              1995          336\n",
       "4      Seattle_Seahawks              1976          628\n",
       "5        Miami_Dolphins              1966          768\n",
       "6        Dallas_Cowboys              1960          850"
      ]
     },
     "execution_count": 41,
     "metadata": {},
     "output_type": "execute_result"
    }
   ],
   "source": [
    "DataFrame(nfl_frame, columns=['Team', 'First_NFL_Season','Total_Games'])"
   ]
  },
  {
   "cell_type": "code",
   "execution_count": 42,
   "metadata": {
    "collapsed": false
   },
   "outputs": [
    {
     "data": {
      "text/html": [
       "<div>\n",
       "<table border=\"1\" class=\"dataframe\">\n",
       "  <thead>\n",
       "    <tr style=\"text-align: right;\">\n",
       "      <th></th>\n",
       "      <th>Rank</th>\n",
       "      <th>Team</th>\n",
       "      <th>Won</th>\n",
       "      <th>Lost</th>\n",
       "      <th>Tied</th>\n",
       "      <th>Pct.</th>\n",
       "      <th>First_NFL_Season</th>\n",
       "      <th>Total_Games</th>\n",
       "      <th>Division</th>\n",
       "    </tr>\n",
       "  </thead>\n",
       "  <tbody>\n",
       "    <tr>\n",
       "      <th>0</th>\n",
       "      <td>30</td>\n",
       "      <td>Houston_Texans</td>\n",
       "      <td>97</td>\n",
       "      <td>127</td>\n",
       "      <td>0</td>\n",
       "      <td>0.433</td>\n",
       "      <td>2002</td>\n",
       "      <td>224</td>\n",
       "      <td>AFC_South</td>\n",
       "    </tr>\n",
       "    <tr>\n",
       "      <th>1</th>\n",
       "      <td>7</td>\n",
       "      <td>Baltimore_Ravens</td>\n",
       "      <td>173</td>\n",
       "      <td>146</td>\n",
       "      <td>1</td>\n",
       "      <td>0.542</td>\n",
       "      <td>1996</td>\n",
       "      <td>320</td>\n",
       "      <td>AFC_North</td>\n",
       "    </tr>\n",
       "    <tr>\n",
       "      <th>2</th>\n",
       "      <td>20</td>\n",
       "      <td>Carolina_Panthers</td>\n",
       "      <td>166</td>\n",
       "      <td>169</td>\n",
       "      <td>1</td>\n",
       "      <td>0.496</td>\n",
       "      <td>1995</td>\n",
       "      <td>336</td>\n",
       "      <td>NFC_South</td>\n",
       "    </tr>\n",
       "  </tbody>\n",
       "</table>\n",
       "</div>"
      ],
      "text/plain": [
       "   Rank               Team  Won  Lost  Tied   Pct.  First_NFL_Season  \\\n",
       "0    30     Houston_Texans   97   127     0  0.433              2002   \n",
       "1     7   Baltimore_Ravens  173   146     1  0.542              1996   \n",
       "2    20  Carolina_Panthers  166   169     1  0.496              1995   \n",
       "\n",
       "   Total_Games   Division  \n",
       "0          224  AFC_South  \n",
       "1          320  AFC_North  \n",
       "2          336  NFC_South  "
      ]
     },
     "execution_count": 42,
     "metadata": {},
     "output_type": "execute_result"
    }
   ],
   "source": [
    "nfl_frame.head(3)"
   ]
  },
  {
   "cell_type": "code",
   "execution_count": 43,
   "metadata": {
    "collapsed": false
   },
   "outputs": [
    {
     "data": {
      "text/html": [
       "<div>\n",
       "<table border=\"1\" class=\"dataframe\">\n",
       "  <thead>\n",
       "    <tr style=\"text-align: right;\">\n",
       "      <th></th>\n",
       "      <th>Rank</th>\n",
       "      <th>Team</th>\n",
       "      <th>Won</th>\n",
       "      <th>Lost</th>\n",
       "      <th>Tied</th>\n",
       "      <th>Pct.</th>\n",
       "      <th>First_NFL_Season</th>\n",
       "      <th>Total_Games</th>\n",
       "      <th>Division</th>\n",
       "    </tr>\n",
       "  </thead>\n",
       "  <tbody>\n",
       "    <tr>\n",
       "      <th>4</th>\n",
       "      <td>17</td>\n",
       "      <td>Seattle_Seahawks</td>\n",
       "      <td>315</td>\n",
       "      <td>313</td>\n",
       "      <td>0</td>\n",
       "      <td>0.502</td>\n",
       "      <td>1976</td>\n",
       "      <td>628</td>\n",
       "      <td>NFC_West</td>\n",
       "    </tr>\n",
       "    <tr>\n",
       "      <th>5</th>\n",
       "      <td>4</td>\n",
       "      <td>Miami_Dolphins</td>\n",
       "      <td>429</td>\n",
       "      <td>335</td>\n",
       "      <td>4</td>\n",
       "      <td>0.561</td>\n",
       "      <td>1966</td>\n",
       "      <td>768</td>\n",
       "      <td>AFC_East</td>\n",
       "    </tr>\n",
       "    <tr>\n",
       "      <th>6</th>\n",
       "      <td>2</td>\n",
       "      <td>Dallas_Cowboys</td>\n",
       "      <td>480</td>\n",
       "      <td>364</td>\n",
       "      <td>6</td>\n",
       "      <td>0.568</td>\n",
       "      <td>1960</td>\n",
       "      <td>850</td>\n",
       "      <td>NFC_East</td>\n",
       "    </tr>\n",
       "  </tbody>\n",
       "</table>\n",
       "</div>"
      ],
      "text/plain": [
       "   Rank              Team  Won  Lost  Tied   Pct.  First_NFL_Season  \\\n",
       "4    17  Seattle_Seahawks  315   313     0  0.502              1976   \n",
       "5     4    Miami_Dolphins  429   335     4  0.561              1966   \n",
       "6     2    Dallas_Cowboys  480   364     6  0.568              1960   \n",
       "\n",
       "   Total_Games  Division  \n",
       "4          628  NFC_West  \n",
       "5          768  AFC_East  \n",
       "6          850  NFC_East  "
      ]
     },
     "execution_count": 43,
     "metadata": {},
     "output_type": "execute_result"
    }
   ],
   "source": [
    "nfl_frame.tail(3)"
   ]
  },
  {
   "cell_type": "code",
   "execution_count": 45,
   "metadata": {
    "collapsed": false
   },
   "outputs": [
    {
     "data": {
      "text/plain": [
       "Rank                                  27\n",
       "Team                Jacksonville_Jaguars\n",
       "Won                                  152\n",
       "Lost                                 184\n",
       "Tied                                   0\n",
       "Pct.                               0.452\n",
       "First_NFL_Season                    1995\n",
       "Total_Games                          336\n",
       "Division                       AFC_South\n",
       "Name: 3, dtype: object"
      ]
     },
     "execution_count": 45,
     "metadata": {},
     "output_type": "execute_result"
    }
   ],
   "source": [
    "nfl_frame.ix[3]"
   ]
  },
  {
   "cell_type": "code",
   "execution_count": 49,
   "metadata": {
    "collapsed": false
   },
   "outputs": [],
   "source": [
    "nfl_frame['Stadium'] = 'Levi s stadium'"
   ]
  },
  {
   "cell_type": "code",
   "execution_count": 50,
   "metadata": {
    "collapsed": false
   },
   "outputs": [
    {
     "data": {
      "text/html": [
       "<div>\n",
       "<table border=\"1\" class=\"dataframe\">\n",
       "  <thead>\n",
       "    <tr style=\"text-align: right;\">\n",
       "      <th></th>\n",
       "      <th>Rank</th>\n",
       "      <th>Team</th>\n",
       "      <th>Won</th>\n",
       "      <th>Lost</th>\n",
       "      <th>Tied</th>\n",
       "      <th>Pct.</th>\n",
       "      <th>First_NFL_Season</th>\n",
       "      <th>Total_Games</th>\n",
       "      <th>Division</th>\n",
       "      <th>Stadium</th>\n",
       "      <th>Stadium a</th>\n",
       "    </tr>\n",
       "  </thead>\n",
       "  <tbody>\n",
       "    <tr>\n",
       "      <th>0</th>\n",
       "      <td>30</td>\n",
       "      <td>Houston_Texans</td>\n",
       "      <td>97</td>\n",
       "      <td>127</td>\n",
       "      <td>0</td>\n",
       "      <td>0.433</td>\n",
       "      <td>2002</td>\n",
       "      <td>224</td>\n",
       "      <td>AFC_South</td>\n",
       "      <td>Levi s stadium</td>\n",
       "      <td>Levi s stadium</td>\n",
       "    </tr>\n",
       "    <tr>\n",
       "      <th>1</th>\n",
       "      <td>7</td>\n",
       "      <td>Baltimore_Ravens</td>\n",
       "      <td>173</td>\n",
       "      <td>146</td>\n",
       "      <td>1</td>\n",
       "      <td>0.542</td>\n",
       "      <td>1996</td>\n",
       "      <td>320</td>\n",
       "      <td>AFC_North</td>\n",
       "      <td>Levi s stadium</td>\n",
       "      <td>Levi s stadium</td>\n",
       "    </tr>\n",
       "    <tr>\n",
       "      <th>2</th>\n",
       "      <td>20</td>\n",
       "      <td>Carolina_Panthers</td>\n",
       "      <td>166</td>\n",
       "      <td>169</td>\n",
       "      <td>1</td>\n",
       "      <td>0.496</td>\n",
       "      <td>1995</td>\n",
       "      <td>336</td>\n",
       "      <td>NFC_South</td>\n",
       "      <td>Levi s stadium</td>\n",
       "      <td>Levi s stadium</td>\n",
       "    </tr>\n",
       "    <tr>\n",
       "      <th>3</th>\n",
       "      <td>27</td>\n",
       "      <td>Jacksonville_Jaguars</td>\n",
       "      <td>152</td>\n",
       "      <td>184</td>\n",
       "      <td>0</td>\n",
       "      <td>0.452</td>\n",
       "      <td>1995</td>\n",
       "      <td>336</td>\n",
       "      <td>AFC_South</td>\n",
       "      <td>Levi s stadium</td>\n",
       "      <td>Levi s stadium</td>\n",
       "    </tr>\n",
       "    <tr>\n",
       "      <th>4</th>\n",
       "      <td>17</td>\n",
       "      <td>Seattle_Seahawks</td>\n",
       "      <td>315</td>\n",
       "      <td>313</td>\n",
       "      <td>0</td>\n",
       "      <td>0.502</td>\n",
       "      <td>1976</td>\n",
       "      <td>628</td>\n",
       "      <td>NFC_West</td>\n",
       "      <td>Levi s stadium</td>\n",
       "      <td>Levi s stadium</td>\n",
       "    </tr>\n",
       "    <tr>\n",
       "      <th>5</th>\n",
       "      <td>4</td>\n",
       "      <td>Miami_Dolphins</td>\n",
       "      <td>429</td>\n",
       "      <td>335</td>\n",
       "      <td>4</td>\n",
       "      <td>0.561</td>\n",
       "      <td>1966</td>\n",
       "      <td>768</td>\n",
       "      <td>AFC_East</td>\n",
       "      <td>Levi s stadium</td>\n",
       "      <td>Levi s stadium</td>\n",
       "    </tr>\n",
       "    <tr>\n",
       "      <th>6</th>\n",
       "      <td>2</td>\n",
       "      <td>Dallas_Cowboys</td>\n",
       "      <td>480</td>\n",
       "      <td>364</td>\n",
       "      <td>6</td>\n",
       "      <td>0.568</td>\n",
       "      <td>1960</td>\n",
       "      <td>850</td>\n",
       "      <td>NFC_East</td>\n",
       "      <td>Levi s stadium</td>\n",
       "      <td>Levi s stadium</td>\n",
       "    </tr>\n",
       "  </tbody>\n",
       "</table>\n",
       "</div>"
      ],
      "text/plain": [
       "   Rank                  Team  Won  Lost  Tied   Pct.  First_NFL_Season  \\\n",
       "0    30        Houston_Texans   97   127     0  0.433              2002   \n",
       "1     7      Baltimore_Ravens  173   146     1  0.542              1996   \n",
       "2    20     Carolina_Panthers  166   169     1  0.496              1995   \n",
       "3    27  Jacksonville_Jaguars  152   184     0  0.452              1995   \n",
       "4    17      Seattle_Seahawks  315   313     0  0.502              1976   \n",
       "5     4        Miami_Dolphins  429   335     4  0.561              1966   \n",
       "6     2        Dallas_Cowboys  480   364     6  0.568              1960   \n",
       "\n",
       "   Total_Games   Division         Stadium       Stadium a  \n",
       "0          224  AFC_South  Levi s stadium  Levi s stadium  \n",
       "1          320  AFC_North  Levi s stadium  Levi s stadium  \n",
       "2          336  NFC_South  Levi s stadium  Levi s stadium  \n",
       "3          336  AFC_South  Levi s stadium  Levi s stadium  \n",
       "4          628   NFC_West  Levi s stadium  Levi s stadium  \n",
       "5          768   AFC_East  Levi s stadium  Levi s stadium  \n",
       "6          850   NFC_East  Levi s stadium  Levi s stadium  "
      ]
     },
     "execution_count": 50,
     "metadata": {},
     "output_type": "execute_result"
    }
   ],
   "source": [
    "nfl_frame"
   ]
  },
  {
   "cell_type": "code",
   "execution_count": 52,
   "metadata": {
    "collapsed": false
   },
   "outputs": [],
   "source": [
    "nfl_frame['Stadium'] = np.arange(7)"
   ]
  },
  {
   "cell_type": "code",
   "execution_count": 53,
   "metadata": {
    "collapsed": false
   },
   "outputs": [
    {
     "data": {
      "text/html": [
       "<div>\n",
       "<table border=\"1\" class=\"dataframe\">\n",
       "  <thead>\n",
       "    <tr style=\"text-align: right;\">\n",
       "      <th></th>\n",
       "      <th>Rank</th>\n",
       "      <th>Team</th>\n",
       "      <th>Won</th>\n",
       "      <th>Lost</th>\n",
       "      <th>Tied</th>\n",
       "      <th>Pct.</th>\n",
       "      <th>First_NFL_Season</th>\n",
       "      <th>Total_Games</th>\n",
       "      <th>Division</th>\n",
       "      <th>Stadium</th>\n",
       "      <th>Stadium a</th>\n",
       "    </tr>\n",
       "  </thead>\n",
       "  <tbody>\n",
       "    <tr>\n",
       "      <th>0</th>\n",
       "      <td>30</td>\n",
       "      <td>Houston_Texans</td>\n",
       "      <td>97</td>\n",
       "      <td>127</td>\n",
       "      <td>0</td>\n",
       "      <td>0.433</td>\n",
       "      <td>2002</td>\n",
       "      <td>224</td>\n",
       "      <td>AFC_South</td>\n",
       "      <td>0</td>\n",
       "      <td>Levi s stadium</td>\n",
       "    </tr>\n",
       "    <tr>\n",
       "      <th>1</th>\n",
       "      <td>7</td>\n",
       "      <td>Baltimore_Ravens</td>\n",
       "      <td>173</td>\n",
       "      <td>146</td>\n",
       "      <td>1</td>\n",
       "      <td>0.542</td>\n",
       "      <td>1996</td>\n",
       "      <td>320</td>\n",
       "      <td>AFC_North</td>\n",
       "      <td>1</td>\n",
       "      <td>Levi s stadium</td>\n",
       "    </tr>\n",
       "    <tr>\n",
       "      <th>2</th>\n",
       "      <td>20</td>\n",
       "      <td>Carolina_Panthers</td>\n",
       "      <td>166</td>\n",
       "      <td>169</td>\n",
       "      <td>1</td>\n",
       "      <td>0.496</td>\n",
       "      <td>1995</td>\n",
       "      <td>336</td>\n",
       "      <td>NFC_South</td>\n",
       "      <td>2</td>\n",
       "      <td>Levi s stadium</td>\n",
       "    </tr>\n",
       "    <tr>\n",
       "      <th>3</th>\n",
       "      <td>27</td>\n",
       "      <td>Jacksonville_Jaguars</td>\n",
       "      <td>152</td>\n",
       "      <td>184</td>\n",
       "      <td>0</td>\n",
       "      <td>0.452</td>\n",
       "      <td>1995</td>\n",
       "      <td>336</td>\n",
       "      <td>AFC_South</td>\n",
       "      <td>3</td>\n",
       "      <td>Levi s stadium</td>\n",
       "    </tr>\n",
       "    <tr>\n",
       "      <th>4</th>\n",
       "      <td>17</td>\n",
       "      <td>Seattle_Seahawks</td>\n",
       "      <td>315</td>\n",
       "      <td>313</td>\n",
       "      <td>0</td>\n",
       "      <td>0.502</td>\n",
       "      <td>1976</td>\n",
       "      <td>628</td>\n",
       "      <td>NFC_West</td>\n",
       "      <td>4</td>\n",
       "      <td>Levi s stadium</td>\n",
       "    </tr>\n",
       "    <tr>\n",
       "      <th>5</th>\n",
       "      <td>4</td>\n",
       "      <td>Miami_Dolphins</td>\n",
       "      <td>429</td>\n",
       "      <td>335</td>\n",
       "      <td>4</td>\n",
       "      <td>0.561</td>\n",
       "      <td>1966</td>\n",
       "      <td>768</td>\n",
       "      <td>AFC_East</td>\n",
       "      <td>5</td>\n",
       "      <td>Levi s stadium</td>\n",
       "    </tr>\n",
       "    <tr>\n",
       "      <th>6</th>\n",
       "      <td>2</td>\n",
       "      <td>Dallas_Cowboys</td>\n",
       "      <td>480</td>\n",
       "      <td>364</td>\n",
       "      <td>6</td>\n",
       "      <td>0.568</td>\n",
       "      <td>1960</td>\n",
       "      <td>850</td>\n",
       "      <td>NFC_East</td>\n",
       "      <td>6</td>\n",
       "      <td>Levi s stadium</td>\n",
       "    </tr>\n",
       "  </tbody>\n",
       "</table>\n",
       "</div>"
      ],
      "text/plain": [
       "   Rank                  Team  Won  Lost  Tied   Pct.  First_NFL_Season  \\\n",
       "0    30        Houston_Texans   97   127     0  0.433              2002   \n",
       "1     7      Baltimore_Ravens  173   146     1  0.542              1996   \n",
       "2    20     Carolina_Panthers  166   169     1  0.496              1995   \n",
       "3    27  Jacksonville_Jaguars  152   184     0  0.452              1995   \n",
       "4    17      Seattle_Seahawks  315   313     0  0.502              1976   \n",
       "5     4        Miami_Dolphins  429   335     4  0.561              1966   \n",
       "6     2        Dallas_Cowboys  480   364     6  0.568              1960   \n",
       "\n",
       "   Total_Games   Division  Stadium       Stadium a  \n",
       "0          224  AFC_South        0  Levi s stadium  \n",
       "1          320  AFC_North        1  Levi s stadium  \n",
       "2          336  NFC_South        2  Levi s stadium  \n",
       "3          336  AFC_South        3  Levi s stadium  \n",
       "4          628   NFC_West        4  Levi s stadium  \n",
       "5          768   AFC_East        5  Levi s stadium  \n",
       "6          850   NFC_East        6  Levi s stadium  "
      ]
     },
     "execution_count": 53,
     "metadata": {},
     "output_type": "execute_result"
    }
   ],
   "source": [
    "nfl_frame"
   ]
  },
  {
   "cell_type": "code",
   "execution_count": 54,
   "metadata": {
    "collapsed": true
   },
   "outputs": [],
   "source": [
    "del nfl_frame['Stadium a']"
   ]
  },
  {
   "cell_type": "code",
   "execution_count": 55,
   "metadata": {
    "collapsed": false
   },
   "outputs": [
    {
     "data": {
      "text/html": [
       "<div>\n",
       "<table border=\"1\" class=\"dataframe\">\n",
       "  <thead>\n",
       "    <tr style=\"text-align: right;\">\n",
       "      <th></th>\n",
       "      <th>Rank</th>\n",
       "      <th>Team</th>\n",
       "      <th>Won</th>\n",
       "      <th>Lost</th>\n",
       "      <th>Tied</th>\n",
       "      <th>Pct.</th>\n",
       "      <th>First_NFL_Season</th>\n",
       "      <th>Total_Games</th>\n",
       "      <th>Division</th>\n",
       "      <th>Stadium</th>\n",
       "    </tr>\n",
       "  </thead>\n",
       "  <tbody>\n",
       "    <tr>\n",
       "      <th>0</th>\n",
       "      <td>30</td>\n",
       "      <td>Houston_Texans</td>\n",
       "      <td>97</td>\n",
       "      <td>127</td>\n",
       "      <td>0</td>\n",
       "      <td>0.433</td>\n",
       "      <td>2002</td>\n",
       "      <td>224</td>\n",
       "      <td>AFC_South</td>\n",
       "      <td>0</td>\n",
       "    </tr>\n",
       "    <tr>\n",
       "      <th>1</th>\n",
       "      <td>7</td>\n",
       "      <td>Baltimore_Ravens</td>\n",
       "      <td>173</td>\n",
       "      <td>146</td>\n",
       "      <td>1</td>\n",
       "      <td>0.542</td>\n",
       "      <td>1996</td>\n",
       "      <td>320</td>\n",
       "      <td>AFC_North</td>\n",
       "      <td>1</td>\n",
       "    </tr>\n",
       "    <tr>\n",
       "      <th>2</th>\n",
       "      <td>20</td>\n",
       "      <td>Carolina_Panthers</td>\n",
       "      <td>166</td>\n",
       "      <td>169</td>\n",
       "      <td>1</td>\n",
       "      <td>0.496</td>\n",
       "      <td>1995</td>\n",
       "      <td>336</td>\n",
       "      <td>NFC_South</td>\n",
       "      <td>2</td>\n",
       "    </tr>\n",
       "    <tr>\n",
       "      <th>3</th>\n",
       "      <td>27</td>\n",
       "      <td>Jacksonville_Jaguars</td>\n",
       "      <td>152</td>\n",
       "      <td>184</td>\n",
       "      <td>0</td>\n",
       "      <td>0.452</td>\n",
       "      <td>1995</td>\n",
       "      <td>336</td>\n",
       "      <td>AFC_South</td>\n",
       "      <td>3</td>\n",
       "    </tr>\n",
       "    <tr>\n",
       "      <th>4</th>\n",
       "      <td>17</td>\n",
       "      <td>Seattle_Seahawks</td>\n",
       "      <td>315</td>\n",
       "      <td>313</td>\n",
       "      <td>0</td>\n",
       "      <td>0.502</td>\n",
       "      <td>1976</td>\n",
       "      <td>628</td>\n",
       "      <td>NFC_West</td>\n",
       "      <td>4</td>\n",
       "    </tr>\n",
       "    <tr>\n",
       "      <th>5</th>\n",
       "      <td>4</td>\n",
       "      <td>Miami_Dolphins</td>\n",
       "      <td>429</td>\n",
       "      <td>335</td>\n",
       "      <td>4</td>\n",
       "      <td>0.561</td>\n",
       "      <td>1966</td>\n",
       "      <td>768</td>\n",
       "      <td>AFC_East</td>\n",
       "      <td>5</td>\n",
       "    </tr>\n",
       "    <tr>\n",
       "      <th>6</th>\n",
       "      <td>2</td>\n",
       "      <td>Dallas_Cowboys</td>\n",
       "      <td>480</td>\n",
       "      <td>364</td>\n",
       "      <td>6</td>\n",
       "      <td>0.568</td>\n",
       "      <td>1960</td>\n",
       "      <td>850</td>\n",
       "      <td>NFC_East</td>\n",
       "      <td>6</td>\n",
       "    </tr>\n",
       "  </tbody>\n",
       "</table>\n",
       "</div>"
      ],
      "text/plain": [
       "   Rank                  Team  Won  Lost  Tied   Pct.  First_NFL_Season  \\\n",
       "0    30        Houston_Texans   97   127     0  0.433              2002   \n",
       "1     7      Baltimore_Ravens  173   146     1  0.542              1996   \n",
       "2    20     Carolina_Panthers  166   169     1  0.496              1995   \n",
       "3    27  Jacksonville_Jaguars  152   184     0  0.452              1995   \n",
       "4    17      Seattle_Seahawks  315   313     0  0.502              1976   \n",
       "5     4        Miami_Dolphins  429   335     4  0.561              1966   \n",
       "6     2        Dallas_Cowboys  480   364     6  0.568              1960   \n",
       "\n",
       "   Total_Games   Division  Stadium  \n",
       "0          224  AFC_South        0  \n",
       "1          320  AFC_North        1  \n",
       "2          336  NFC_South        2  \n",
       "3          336  AFC_South        3  \n",
       "4          628   NFC_West        4  \n",
       "5          768   AFC_East        5  \n",
       "6          850   NFC_East        6  "
      ]
     },
     "execution_count": 55,
     "metadata": {},
     "output_type": "execute_result"
    }
   ],
   "source": [
    "nfl_frame"
   ]
  },
  {
   "cell_type": "code",
   "execution_count": 58,
   "metadata": {
    "collapsed": true
   },
   "outputs": [],
   "source": [
    "nfl_frame['Stadium'] = Series([\"Levi's Stadium\", \"AT&T Stadium\"], index=[5,0])"
   ]
  },
  {
   "cell_type": "code",
   "execution_count": 61,
   "metadata": {
    "collapsed": false
   },
   "outputs": [],
   "source": [
    "del nfl_frame['Stadio']"
   ]
  },
  {
   "cell_type": "code",
   "execution_count": 63,
   "metadata": {
    "collapsed": false
   },
   "outputs": [
    {
     "data": {
      "text/html": [
       "<div>\n",
       "<table border=\"1\" class=\"dataframe\">\n",
       "  <thead>\n",
       "    <tr style=\"text-align: right;\">\n",
       "      <th></th>\n",
       "      <th>Rank</th>\n",
       "      <th>Team</th>\n",
       "      <th>Won</th>\n",
       "      <th>Lost</th>\n",
       "      <th>Tied</th>\n",
       "      <th>Pct.</th>\n",
       "      <th>First_NFL_Season</th>\n",
       "      <th>Total_Games</th>\n",
       "      <th>Division</th>\n",
       "      <th>Stadium</th>\n",
       "    </tr>\n",
       "  </thead>\n",
       "  <tbody>\n",
       "    <tr>\n",
       "      <th>0</th>\n",
       "      <td>30</td>\n",
       "      <td>Houston_Texans</td>\n",
       "      <td>97</td>\n",
       "      <td>127</td>\n",
       "      <td>0</td>\n",
       "      <td>0.433</td>\n",
       "      <td>2002</td>\n",
       "      <td>224</td>\n",
       "      <td>AFC_South</td>\n",
       "      <td>AT&amp;T Stadium</td>\n",
       "    </tr>\n",
       "    <tr>\n",
       "      <th>1</th>\n",
       "      <td>7</td>\n",
       "      <td>Baltimore_Ravens</td>\n",
       "      <td>173</td>\n",
       "      <td>146</td>\n",
       "      <td>1</td>\n",
       "      <td>0.542</td>\n",
       "      <td>1996</td>\n",
       "      <td>320</td>\n",
       "      <td>AFC_North</td>\n",
       "      <td>NaN</td>\n",
       "    </tr>\n",
       "    <tr>\n",
       "      <th>2</th>\n",
       "      <td>20</td>\n",
       "      <td>Carolina_Panthers</td>\n",
       "      <td>166</td>\n",
       "      <td>169</td>\n",
       "      <td>1</td>\n",
       "      <td>0.496</td>\n",
       "      <td>1995</td>\n",
       "      <td>336</td>\n",
       "      <td>NFC_South</td>\n",
       "      <td>NaN</td>\n",
       "    </tr>\n",
       "    <tr>\n",
       "      <th>3</th>\n",
       "      <td>27</td>\n",
       "      <td>Jacksonville_Jaguars</td>\n",
       "      <td>152</td>\n",
       "      <td>184</td>\n",
       "      <td>0</td>\n",
       "      <td>0.452</td>\n",
       "      <td>1995</td>\n",
       "      <td>336</td>\n",
       "      <td>AFC_South</td>\n",
       "      <td>NaN</td>\n",
       "    </tr>\n",
       "    <tr>\n",
       "      <th>4</th>\n",
       "      <td>17</td>\n",
       "      <td>Seattle_Seahawks</td>\n",
       "      <td>315</td>\n",
       "      <td>313</td>\n",
       "      <td>0</td>\n",
       "      <td>0.502</td>\n",
       "      <td>1976</td>\n",
       "      <td>628</td>\n",
       "      <td>NFC_West</td>\n",
       "      <td>NaN</td>\n",
       "    </tr>\n",
       "    <tr>\n",
       "      <th>5</th>\n",
       "      <td>4</td>\n",
       "      <td>Miami_Dolphins</td>\n",
       "      <td>429</td>\n",
       "      <td>335</td>\n",
       "      <td>4</td>\n",
       "      <td>0.561</td>\n",
       "      <td>1966</td>\n",
       "      <td>768</td>\n",
       "      <td>AFC_East</td>\n",
       "      <td>Levi's Stadium</td>\n",
       "    </tr>\n",
       "    <tr>\n",
       "      <th>6</th>\n",
       "      <td>2</td>\n",
       "      <td>Dallas_Cowboys</td>\n",
       "      <td>480</td>\n",
       "      <td>364</td>\n",
       "      <td>6</td>\n",
       "      <td>0.568</td>\n",
       "      <td>1960</td>\n",
       "      <td>850</td>\n",
       "      <td>NFC_East</td>\n",
       "      <td>NaN</td>\n",
       "    </tr>\n",
       "  </tbody>\n",
       "</table>\n",
       "</div>"
      ],
      "text/plain": [
       "   Rank                  Team  Won  Lost  Tied   Pct.  First_NFL_Season  \\\n",
       "0    30        Houston_Texans   97   127     0  0.433              2002   \n",
       "1     7      Baltimore_Ravens  173   146     1  0.542              1996   \n",
       "2    20     Carolina_Panthers  166   169     1  0.496              1995   \n",
       "3    27  Jacksonville_Jaguars  152   184     0  0.452              1995   \n",
       "4    17      Seattle_Seahawks  315   313     0  0.502              1976   \n",
       "5     4        Miami_Dolphins  429   335     4  0.561              1966   \n",
       "6     2        Dallas_Cowboys  480   364     6  0.568              1960   \n",
       "\n",
       "   Total_Games   Division         Stadium  \n",
       "0          224  AFC_South    AT&T Stadium  \n",
       "1          320  AFC_North             NaN  \n",
       "2          336  NFC_South             NaN  \n",
       "3          336  AFC_South             NaN  \n",
       "4          628   NFC_West             NaN  \n",
       "5          768   AFC_East  Levi's Stadium  \n",
       "6          850   NFC_East             NaN  "
      ]
     },
     "execution_count": 63,
     "metadata": {},
     "output_type": "execute_result"
    }
   ],
   "source": [
    "nfl_frame"
   ]
  },
  {
   "cell_type": "code",
   "execution_count": 66,
   "metadata": {
    "collapsed": true
   },
   "outputs": [],
   "source": [
    "data = {'city': ['SF', 'LA', 'NYC'], 'population': [837000, 3880000, 8400000]}"
   ]
  },
  {
   "cell_type": "code",
   "execution_count": 67,
   "metadata": {
    "collapsed": false
   },
   "outputs": [
    {
     "data": {
      "text/plain": [
       "{'city': ['SF', 'LA', 'NYC'], 'population': [837000, 3880000, 8400000]}"
      ]
     },
     "execution_count": 67,
     "metadata": {},
     "output_type": "execute_result"
    }
   ],
   "source": [
    "data"
   ]
  },
  {
   "cell_type": "code",
   "execution_count": 68,
   "metadata": {
    "collapsed": true
   },
   "outputs": [],
   "source": [
    "city_frame = DataFrame(data)"
   ]
  },
  {
   "cell_type": "code",
   "execution_count": 69,
   "metadata": {
    "collapsed": false
   },
   "outputs": [
    {
     "data": {
      "text/html": [
       "<div>\n",
       "<table border=\"1\" class=\"dataframe\">\n",
       "  <thead>\n",
       "    <tr style=\"text-align: right;\">\n",
       "      <th></th>\n",
       "      <th>city</th>\n",
       "      <th>population</th>\n",
       "    </tr>\n",
       "  </thead>\n",
       "  <tbody>\n",
       "    <tr>\n",
       "      <th>0</th>\n",
       "      <td>SF</td>\n",
       "      <td>837000</td>\n",
       "    </tr>\n",
       "    <tr>\n",
       "      <th>1</th>\n",
       "      <td>LA</td>\n",
       "      <td>3880000</td>\n",
       "    </tr>\n",
       "    <tr>\n",
       "      <th>2</th>\n",
       "      <td>NYC</td>\n",
       "      <td>8400000</td>\n",
       "    </tr>\n",
       "  </tbody>\n",
       "</table>\n",
       "</div>"
      ],
      "text/plain": [
       "  city  population\n",
       "0   SF      837000\n",
       "1   LA     3880000\n",
       "2  NYC     8400000"
      ]
     },
     "execution_count": 69,
     "metadata": {},
     "output_type": "execute_result"
    }
   ],
   "source": [
    "city_frame"
   ]
  },
  {
   "cell_type": "code",
   "execution_count": null,
   "metadata": {
    "collapsed": true
   },
   "outputs": [],
   "source": []
  }
 ],
 "metadata": {
  "kernelspec": {
   "display_name": "Python 3",
   "language": "python",
   "name": "python3"
  },
  "language_info": {
   "codemirror_mode": {
    "name": "ipython",
    "version": 3
   },
   "file_extension": ".py",
   "mimetype": "text/x-python",
   "name": "python",
   "nbconvert_exporter": "python",
   "pygments_lexer": "ipython3",
   "version": "3.5.1"
  }
 },
 "nbformat": 4,
 "nbformat_minor": 0
}
