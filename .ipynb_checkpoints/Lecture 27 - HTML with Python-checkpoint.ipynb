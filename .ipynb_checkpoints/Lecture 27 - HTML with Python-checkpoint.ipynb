{
 "cells": [
  {
   "cell_type": "code",
   "execution_count": 1,
   "metadata": {
    "collapsed": true
   },
   "outputs": [],
   "source": [
    "import pandas as pd\n",
    "from pandas import Series, DataFrame"
   ]
  },
  {
   "cell_type": "code",
   "execution_count": 2,
   "metadata": {
    "collapsed": true
   },
   "outputs": [],
   "source": [
    "from pandas import read_html"
   ]
  },
  {
   "cell_type": "code",
   "execution_count": 3,
   "metadata": {
    "collapsed": true
   },
   "outputs": [],
   "source": [
    "url = 'http://www.fdic.gov/bank/individual/failed/banklist.html'"
   ]
  },
  {
   "cell_type": "code",
   "execution_count": 4,
   "metadata": {
    "collapsed": true
   },
   "outputs": [],
   "source": [
    "# pip install beautifulsoup4\n",
    "# pip install html5lib"
   ]
  },
  {
   "cell_type": "code",
   "execution_count": 5,
   "metadata": {
    "collapsed": true
   },
   "outputs": [],
   "source": [
    "dframe_list = pd.io.html.read_html(url)"
   ]
  },
  {
   "cell_type": "code",
   "execution_count": 6,
   "metadata": {
    "collapsed": false
   },
   "outputs": [
    {
     "data": {
      "text/plain": [
       "[                                      Bank Name             City  ST   CERT  \\\n",
       " 0                        First CornerStone Bank  King of Prussia  PA  35312   \n",
       " 1                            Trust Company Bank          Memphis  TN   9956   \n",
       " 2                    North Milwaukee State Bank        Milwaukee  WI  20364   \n",
       " 3                        Hometown National Bank         Longview  WA  35156   \n",
       " 4                           The Bank of Georgia   Peachtree City  GA  35259   \n",
       " 5                                  Premier Bank           Denver  CO  34112   \n",
       " 6                                Edgebrook Bank          Chicago  IL  57772   \n",
       " 7                          Doral BankEn Espanol         San Juan  PR  32102   \n",
       " 8             Capitol City Bank & Trust Company          Atlanta  GA  33938   \n",
       " 9                       Highland Community Bank          Chicago  IL  20290   \n",
       " 10             First National Bank of Crestview        Crestview  FL  17557   \n",
       " 11                           Northern Star Bank          Mankato  MN  34983   \n",
       " 12       Frontier Bank, FSB D/B/A El Paseo Bank      Palm Desert  CA  34738   \n",
       " 13        The National Republic Bank of Chicago          Chicago  IL    916   \n",
       " 14                               NBRS Financial       Rising Sun  MD   4862   \n",
       " 15                        GreenChoice Bank, fsb          Chicago  IL  28462   \n",
       " 16                     Eastside Commercial Bank          Conyers  GA  58125   \n",
       " 17                       The Freedom State Bank          Freedom  OK  12483   \n",
       " 18                                  Valley Bank  Fort Lauderdale  FL  21793   \n",
       " 19                                  Valley Bank           Moline  IL  10450   \n",
       " 20                  Slavie Federal Savings Bank          Bel Air  MD  32368   \n",
       " 21                        Columbia Savings Bank       Cincinnati  OH  32284   \n",
       " 22                 AztecAmerica Bank En Espanol           Berwyn  IL  57866   \n",
       " 23                        Allendale County Bank          Fairfax  SC  15062   \n",
       " 24                           Vantage Point Bank          Horsham  PA  58531   \n",
       " 25        Millennium Bank, National Association         Sterling  VA  35096   \n",
       " 26                                 Syringa Bank            Boise  ID  34296   \n",
       " 27                            The Bank of Union          El Reno  OK  17967   \n",
       " 28                         DuPage National Bank     West Chicago  IL   5732   \n",
       " 29   Texas Community Bank, National Association    The Woodlands  TX  57431   \n",
       " ..                                          ...              ...  ..    ...   \n",
       " 515                           ANB Financial, NA      Bentonville  AR  33901   \n",
       " 516                                   Hume Bank             Hume  MO   1971   \n",
       " 517                      Douglass National Bank      Kansas City  MO  24660   \n",
       " 518                           Miami Valley Bank         Lakeview  OH  16848   \n",
       " 519                                     NetBank       Alpharetta  GA  32575   \n",
       " 520                   Metropolitan Savings Bank       Pittsburgh  PA  35353   \n",
       " 521                             Bank of Ephraim          Ephraim  UT   1249   \n",
       " 522                               Reliance Bank     White Plains  NY  26778   \n",
       " 523       Guaranty National Bank of Tallahassee      Tallahassee  FL  26838   \n",
       " 524                         Dollar Savings Bank           Newark  NJ  31330   \n",
       " 525                        Pulaski Savings Bank     Philadelphia  PA  27203   \n",
       " 526       First National Bank of Blanchardville   Blanchardville  WI  11639   \n",
       " 527                       Southern Pacific Bank         Torrance  CA  27094   \n",
       " 528                 Farmers Bank of Cheneyville      Cheneyville  LA  16445   \n",
       " 529                               Bank of Alamo            Alamo  TN   9961   \n",
       " 530        AmTrade International BankEn Espanol          Atlanta  GA  33784   \n",
       " 531              Universal Federal Savings Bank          Chicago  IL  29355   \n",
       " 532                Connecticut Bank of Commerce         Stamford  CT  19183   \n",
       " 533                            New Century Bank  Shelby Township  MI  34979   \n",
       " 534                       Net 1st National Bank       Boca Raton  FL  26652   \n",
       " 535                                NextBank, NA          Phoenix  AZ  22314   \n",
       " 536                    Oakwood Deposit Bank Co.          Oakwood  OH   8966   \n",
       " 537                       Bank of Sierra Blanca    Sierra Blanca  TX  22002   \n",
       " 538                 Hamilton Bank, NAEn Espanol            Miami  FL  24382   \n",
       " 539                      Sinclair National Bank         Gravette  AR  34248   \n",
       " 540                          Superior Bank, FSB         Hinsdale  IL  32646   \n",
       " 541                         Malta National Bank            Malta  OH   6629   \n",
       " 542             First Alliance Bank & Trust Co.       Manchester  NH  34264   \n",
       " 543           National State Bank of Metropolis       Metropolis  IL   3815   \n",
       " 544                            Bank of Honolulu         Honolulu  HI  21029   \n",
       " \n",
       "                    Acquiring Institution        Closing Date  \\\n",
       " 0    First-Citizens Bank & Trust Company         May 6, 2016   \n",
       " 1             The Bank of Fayette County      April 29, 2016   \n",
       " 2    First-Citizens Bank & Trust Company      March 11, 2016   \n",
       " 3                         Twin City Bank     October 2, 2015   \n",
       " 4                          Fidelity Bank     October 2, 2015   \n",
       " 5              United Fidelity Bank, fsb       July 10, 2015   \n",
       " 6               Republic Bank of Chicago         May 8, 2015   \n",
       " 7           Banco Popular de Puerto Rico   February 27, 2015   \n",
       " 8    First-Citizens Bank & Trust Company   February 13, 2015   \n",
       " 9              United Fidelity Bank, fsb    January 23, 2015   \n",
       " 10                        First NBC Bank    January 16, 2015   \n",
       " 11                             BankVista   December 19, 2014   \n",
       " 12     Bank of Southern California, N.A.    November 7, 2014   \n",
       " 13                   State Bank of Texas    October 24, 2014   \n",
       " 14                           Howard Bank    October 17, 2014   \n",
       " 15                  Providence Bank, LLC       July 25, 2014   \n",
       " 16             Community & Southern Bank       July 18, 2014   \n",
       " 17       Alva State Bank & Trust Company       June 27, 2014   \n",
       " 18   Landmark Bank, National Association       June 20, 2014   \n",
       " 19                   Great Southern Bank       June 20, 2014   \n",
       " 20                         Bay Bank, FSB        May 30, 2014   \n",
       " 21             United Fidelity Bank, fsb        May 23, 2014   \n",
       " 22              Republic Bank of Chicago        May 16, 2014   \n",
       " 23                   Palmetto State Bank      April 25, 2014   \n",
       " 24                     First Choice Bank   February 28, 2014   \n",
       " 25                  WashingtonFirst Bank   February 28, 2014   \n",
       " 26                          Sunwest Bank    January 31, 2014   \n",
       " 27                             BancFirst    January 24, 2014   \n",
       " 28              Republic Bank of Chicago    January 17, 2014   \n",
       " 29             Spirit of Texas Bank, SSB   December 13, 2013   \n",
       " ..                                   ...                 ...   \n",
       " 515       Pulaski Bank and Trust Company         May 9, 2008   \n",
       " 516                        Security Bank       March 7, 2008   \n",
       " 517       Liberty Bank and Trust Company    January 25, 2008   \n",
       " 518         The Citizens Banking Company     October 4, 2007   \n",
       " 519                           ING DIRECT  September 28, 2007   \n",
       " 520  Allegheny Valley Bank of Pittsburgh    February 2, 2007   \n",
       " 521                        Far West Bank       June 25, 2004   \n",
       " 522                     Union State Bank      March 19, 2004   \n",
       " 523              Hancock Bank of Florida      March 12, 2004   \n",
       " 524                          No Acquirer   February 14, 2004   \n",
       " 525                       Earthstar Bank   November 14, 2003   \n",
       " 526                        The Park Bank         May 9, 2003   \n",
       " 527                            Beal Bank    February 7, 2003   \n",
       " 528            Sabine State Bank & Trust   December 17, 2002   \n",
       " 529                          No Acquirer    November 8, 2002   \n",
       " 530                          No Acquirer  September 30, 2002   \n",
       " 531               Chicago Community Bank       June 27, 2002   \n",
       " 532                   Hudson United Bank       June 26, 2002   \n",
       " 533                          No Acquirer      March 28, 2002   \n",
       " 534                       Bank Leumi USA       March 1, 2002   \n",
       " 535                          No Acquirer    February 7, 2002   \n",
       " 536       The State Bank & Trust Company    February 1, 2002   \n",
       " 537     The Security State Bank of Pecos    January 18, 2002   \n",
       " 538     Israel Discount Bank of New York    January 11, 2002   \n",
       " 539                   Delta Trust & Bank   September 7, 2001   \n",
       " 540                Superior Federal, FSB       July 27, 2001   \n",
       " 541                    North Valley Bank         May 3, 2001   \n",
       " 542  Southern New Hampshire Bank & Trust    February 2, 2001   \n",
       " 543              Banterra Bank of Marion   December 14, 2000   \n",
       " 544                   Bank of the Orient    October 13, 2000   \n",
       " \n",
       "            Updated Date Loss Share Type Agreement Terminated Termination Date  \n",
       " 0          May 25, 2016             NaN                  NaN              NaN  \n",
       " 1          May 25, 2016             NaN                  NaN              NaN  \n",
       " 2         June 16, 2016             NaN                  NaN              NaN  \n",
       " 3        April 13, 2016             NaN                  NaN              NaN  \n",
       " 4        April 13, 2016             NaN                  NaN              NaN  \n",
       " 5     December 17, 2015            none                  NaN              NaN  \n",
       " 6          June 2, 2016            none                  NaN              NaN  \n",
       " 7          May 13, 2015            none                  NaN              NaN  \n",
       " 8        April 21, 2015            none                  NaN              NaN  \n",
       " 9        April 21, 2015            none                  NaN              NaN  \n",
       " 10     January 15, 2016            none                  NaN              NaN  \n",
       " 11      January 6, 2016            none                  NaN              NaN  \n",
       " 12      January 6, 2016            none                  NaN              NaN  \n",
       " 13      January 6, 2016            none                  NaN              NaN  \n",
       " 14       March 26, 2015            none                  NaN              NaN  \n",
       " 15        July 28, 2015            none                  NaN              NaN  \n",
       " 16        July 28, 2015            none                  NaN              NaN  \n",
       " 17       March 25, 2016            none                  NaN              NaN  \n",
       " 18        June 29, 2015            none                  NaN              NaN  \n",
       " 19        June 26, 2015            none                  NaN              NaN  \n",
       " 20        June 15, 2015            none                  NaN              NaN  \n",
       " 21         May 28, 2015            none                  NaN              NaN  \n",
       " 22        July 18, 2014            none                  NaN              NaN  \n",
       " 23        July 18, 2014            none                  NaN              NaN  \n",
       " 24        March 3, 2015            none                  NaN              NaN  \n",
       " 25       March 03, 2015            none                  NaN              NaN  \n",
       " 26       April 12, 2016            none                  NaN              NaN  \n",
       " 27       March 25, 2016            none                  NaN              NaN  \n",
       " 28    February 19, 2015            none                  NaN              NaN  \n",
       " 29    December 29, 2014            none                  NaN              NaN  \n",
       " ..                  ...             ...                  ...              ...  \n",
       " 515     August 28, 2012            none                  NaN              NaN  \n",
       " 516     August 28, 2012            none                  NaN              NaN  \n",
       " 517    October 26, 2012            none                  NaN              NaN  \n",
       " 518     August 28, 2012            none                  NaN              NaN  \n",
       " 519     August 28, 2012            none                  NaN              NaN  \n",
       " 520    October 27, 2010            none                  NaN              NaN  \n",
       " 521       April 9, 2008            none                  NaN              NaN  \n",
       " 522       April 9, 2008            none                  NaN              NaN  \n",
       " 523        June 5, 2012            none                  NaN              NaN  \n",
       " 524       April 9, 2008            none                  NaN              NaN  \n",
       " 525       July 22, 2005            none                  NaN              NaN  \n",
       " 526        June 5, 2012            none                  NaN              NaN  \n",
       " 527    October 20, 2008            none                  NaN              NaN  \n",
       " 528    October 20, 2004            none                  NaN              NaN  \n",
       " 529      March 18, 2005            none                  NaN              NaN  \n",
       " 530  September 11, 2006            none                  NaN              NaN  \n",
       " 531       April 9, 2008            none                  NaN              NaN  \n",
       " 532   February 14, 2012            none                  NaN              NaN  \n",
       " 533      March 18, 2005            none                  NaN              NaN  \n",
       " 534       April 9, 2008            none                  NaN              NaN  \n",
       " 535    February 5, 2015            none                  NaN              NaN  \n",
       " 536    October 25, 2012            none                  NaN              NaN  \n",
       " 537    November 6, 2003            none                  NaN              NaN  \n",
       " 538  September 21, 2015            none                  NaN              NaN  \n",
       " 539   February 10, 2004            none                  NaN              NaN  \n",
       " 540     August 19, 2014            none                  NaN              NaN  \n",
       " 541   November 18, 2002            none                  NaN              NaN  \n",
       " 542   February 18, 2003            none                  NaN              NaN  \n",
       " 543      March 17, 2005            none                  NaN              NaN  \n",
       " 544      March 17, 2005            none                  NaN              NaN  \n",
       " \n",
       " [545 rows x 10 columns]]"
      ]
     },
     "execution_count": 6,
     "metadata": {},
     "output_type": "execute_result"
    }
   ],
   "source": [
    "dframe_list"
   ]
  },
  {
   "cell_type": "code",
   "execution_count": 13,
   "metadata": {
    "collapsed": false
   },
   "outputs": [],
   "source": [
    "dframe = dframe_list[0]"
   ]
  },
  {
   "cell_type": "code",
   "execution_count": 11,
   "metadata": {
    "collapsed": false
   },
   "outputs": [
    {
     "data": {
      "text/plain": [
       "array(['Bank Name', 'City', 'ST', 'CERT', 'Acquiring Institution',\n",
       "       'Closing Date', 'Updated Date', 'Loss Share Type',\n",
       "       'Agreement Terminated', 'Termination Date'], dtype=object)"
      ]
     },
     "execution_count": 11,
     "metadata": {},
     "output_type": "execute_result"
    }
   ],
   "source": [
    "dframe.columns.values"
   ]
  },
  {
   "cell_type": "code",
   "execution_count": null,
   "metadata": {
    "collapsed": true
   },
   "outputs": [],
   "source": []
  }
 ],
 "metadata": {
  "kernelspec": {
   "display_name": "Python 3",
   "language": "python",
   "name": "python3"
  },
  "language_info": {
   "codemirror_mode": {
    "name": "ipython",
    "version": 3
   },
   "file_extension": ".py",
   "mimetype": "text/x-python",
   "name": "python",
   "nbconvert_exporter": "python",
   "pygments_lexer": "ipython3",
   "version": "3.5.1"
  }
 },
 "nbformat": 4,
 "nbformat_minor": 0
}
